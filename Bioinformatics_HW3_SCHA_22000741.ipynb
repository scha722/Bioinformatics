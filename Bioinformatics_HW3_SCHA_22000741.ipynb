{
 "cells": [
  {
   "cell_type": "markdown",
   "metadata": {
    "id": "CJzTUiGFSBQ2"
   },
   "source": [
    "# Pairwise DNA/Protein Alignment"
   ]
  },
  {
   "cell_type": "markdown",
   "metadata": {
    "id": "KUhvdLcwSIGi"
   },
   "source": [
    "## Import Libraries"
   ]
  },
  {
   "cell_type": "code",
   "execution_count": null,
   "metadata": {
    "id": "w2RlkY1VQzyv"
   },
   "outputs": [],
   "source": [
    "#import libraries\n",
    "\n",
    "import numpy as np\n",
    "import pandas as pd"
   ]
  },
  {
   "cell_type": "markdown",
   "metadata": {
    "id": "YFfiaPisSPi6"
   },
   "source": [
    "## Read BLOSUM and DNA score Matrices"
   ]
  },
  {
   "cell_type": "code",
   "execution_count": null,
   "metadata": {
    "id": "HVS6pRFNR5Om"
   },
   "outputs": [],
   "source": [
    "#The following codes read the csv files of substitution matrices\n",
    "#Prior to running the codes, please upload the corresponding csv files.\n",
    "\n",
    "blosum_50_df = pd.read_csv('blosum_50.csv', index_col = [0])\n",
    "blosum_62_df = pd.read_csv('blosum_62.csv', index_col = [0])\n",
    "blosum_80_df = pd.read_csv('blosum_80.csv', index_col = [0])\n",
    "\n",
    "dna_sub_matrix = pd.read_csv('dna_sub_matrix.csv', index_col = [0])"
   ]
  },
  {
   "cell_type": "markdown",
   "metadata": {
    "id": "wcMQcRxxTIZr"
   },
   "source": [
    "## Composite Functions of Aligntwo\n",
    "\n",
    "### The __Aligntwo()__ function is a user defined  function that consists of 5 separate smaller functions. Here are the list of functions used to create Aligntwo\n",
    "\n",
    "1. __score_func(__xi, yj, go, ge, gap_opening, sub_matrix __)__: returns the similarity score of two amino acid residues or bases. \n",
    "\n",
    "  arguments: \n",
    "\n",
    "  * _xi_: first amino acid residue/base\n",
    "  * _yj_: second amino acid residue/base\n",
    "  * _go_: gap opening penalty. Default penalty is -2\n",
    "  * _ge_: gap extension penalty. Default penalty is -2\n",
    "  * _gap_opening_: True/False. True if the preceding alignment is a gap and false if otherwise. \n",
    "\n",
    "2. __get_S(__ seq1, seq2, sub_matrix = blosum_62_df, go = -2, ge = -2, align_type = 'gbl' __)__ : \n",
    "get_S function returns a Score Matrix of two protein/DNA sequences. \n",
    "\n",
    "  arguments:\n",
    "\n",
    "  * _seq1_: first protein/DNA sequence\n",
    "  * _seq2_: second protein/DNA sequence\n",
    "  * _sub_matrix_: substitution matrix. Default substitution matrix is BLOSUM62. If the user wishes to use different substitution matrix, enter the dataframe. (e.g. sub_matrix = blosum_80_df, sub_matrix = dna_sub_matrix)\n",
    "  * _go_: gap opening penalty. Default penalty is -2\n",
    "  * _ge_: gap extension penalty. Default penalty is -2\n",
    "  * _align_type_ : type of alignment. Either 'gbl'(global alignment) or 'lcl'(local alignment). Default alignment type is 'gbl'\n",
    "\n",
    "3. __find_optim_path(__S, position_dir, nrow, ncol, path_dir = [], align_type = 'gbl' __)__ \n",
    "\n",
    "  :find_optim_path function returns a list of directions ('right', 'down', 'diagonal') of the optimal path from the upper left corner to the lower right corner of the score matrix. \n",
    "\n",
    "  arguments:\n",
    "\n",
    "  * _S_: score matrix\n",
    "  * _position_dir_: dataframe containing the directions of the substitution matrix. Values are either 'right','down' or 'diagonal'\n",
    "  * _path_dir_: list that will store the directions of the optimal path from the upper left corner to the lower right corner of the score matrix. \n",
    "  * _align_type_: alignment type. If align_type = 'gbl', function returns path_dir. Otherwise, it will return None. \n",
    "\n",
    "4. __visualize_global_alignment(__ seq1, seq2, path_dir __)__ \n",
    "  : visualize_global_alignment is a function which visualizes the optimal global alignment of two sequences. \n",
    "\n",
    "  arguments:\n",
    "\n",
    "  * _seq1_: first Protein/DNA sequence\n",
    "  * _seq2_: second Protein/DNA sequence\n",
    "  * _path_dir_: list containing the directions of the optimal path from the upper left corner to the lower right corner of the score matrix. \n",
    "\n",
    "5. __visualize_local_alignment(__ seq1, seq2, S, position_dir __)__ \n",
    "  : visualize_local_alignment is a function which visualizes the optimal local alignment of two sequences. \n",
    "\n",
    "  arguments: \n",
    "\n",
    "  * _seq1_ : first Protein/DNA sequence\n",
    "  * _seq2_ : second Protein/DNA sequence\n",
    "  * _S_: score matrix\n",
    "  * _position_dir_: dataframe containing the directions in the substitution matrix\n",
    "\n"
   ]
  },
  {
   "cell_type": "code",
   "execution_count": null,
   "metadata": {
    "id": "vifav3q4TMPF"
   },
   "outputs": [],
   "source": [
    "def score_func(xi, yj, go = -2, ge = -2, gap_opening = False, sub_matrix = blosum_62_df):\n",
    "    if gap_opening == False:\n",
    "        if xi == '-' or yj == '-':\n",
    "            return go #gap opening penalty\n",
    "        else:\n",
    "            return sub_matrix.loc[xi, yj]\n",
    "        \n",
    "    elif gap_opening == True:\n",
    "        if xi == '-' or yj == '-':\n",
    "            return ge #gap extension penalty\n",
    "        else:\n",
    "            return sub_matrix.loc[xi, yj]"
   ]
  },
  {
   "cell_type": "code",
   "execution_count": null,
   "metadata": {
    "id": "d36x64i1TOYV"
   },
   "outputs": [],
   "source": [
    "def get_S(seq1, seq2, sub_matrix = blosum_62_df, go = -2, ge = -2, align_type = 'gbl'):\n",
    "    \n",
    "    M = len(seq1)\n",
    "    N = len(seq2)\n",
    "    \n",
    "    S = np.empty(shape=(M + 1, N + 1), dtype='object') #substitution matrix\n",
    "    position_dir = pd.DataFrame(index = [i for i in range(len(seq1))], \n",
    "                            columns = [j for j in range(len(seq2))])\n",
    "\n",
    "    for i in range(M + 1):\n",
    "        S[i,0] = 0\n",
    "\n",
    "    for j in range(N + 1):\n",
    "        S[0,j] = 0\n",
    "\n",
    "    right_gap_opening = False\n",
    "    down_gap_opening = False\n",
    "\n",
    "    for i in range(1, M+1):\n",
    "        for j in range(1, N+1):\n",
    "\n",
    "            xi = seq1[i-1]\n",
    "            yj = seq2[j-1]\n",
    "\n",
    "            if i >= 2:\n",
    "                if position_dir.loc[i-2,j-1] == 'down':\n",
    "                    down_gap_opening = True\n",
    "                    \n",
    "                elif position_dir.loc[i-2,j-1] != 'down':\n",
    "                    down_gap_opening = False\n",
    "\n",
    "            if j >= 2:\n",
    "                if  position_dir.loc[i-1,j-2] == 'right':\n",
    "                    right_gap_opening = True\n",
    "\n",
    "                elif position_dir.loc[i-1,j-2] != 'right':\n",
    "                    right_gap_opening = False\n",
    "\n",
    "\n",
    "            right = S[i,j-1] + score_func(xi, '-', go = go, ge = ge,\n",
    "                                          gap_opening = right_gap_opening, \n",
    "                                          sub_matrix = sub_matrix)\n",
    "            down = S[i-1,j] + score_func('-', yj, go = go, ge = ge, \n",
    "                                         gap_opening = down_gap_opening, \n",
    "                                         sub_matrix = sub_matrix)\n",
    "            diagonal = S[i-1, j-1] + score_func(xi, yj, go = go, ge = ge,\n",
    "                                                gap_opening = False, \n",
    "                                                sub_matrix = sub_matrix)\n",
    "\n",
    "            S[i, j] = np.max([right, down, diagonal])\n",
    "\n",
    "            if S[i,j] == diagonal:\n",
    "                position_dir.loc[i-1,j-1] = 'diagonal'\n",
    "            elif S[i,j] == right:\n",
    "                position_dir.loc[i-1,j-1] = 'right'\n",
    "            elif S[i,j] == down:\n",
    "                position_dir.loc[i-1,j-1] = 'down'\n",
    "                \n",
    "    if align_type == 'gbl':\n",
    "        return S, position_dir\n",
    "    elif align_type == 'lcl':\n",
    "        return S * (S > 0), position_dir"
   ]
  },
  {
   "cell_type": "code",
   "execution_count": null,
   "metadata": {
    "id": "uS_dDnxNTTs2"
   },
   "outputs": [],
   "source": [
    "def find_optim_path(S, position_dir, nrow, ncol, path_dir = [], align_type = 'gbl'):\n",
    "    \n",
    "    if align_type == 'gbl':\n",
    "        \n",
    "        if nrow == 0 and ncol == 0:\n",
    "            path_dir.reverse()\n",
    "            return path_dir\n",
    "\n",
    "        elif nrow != 0 and ncol != 0:\n",
    "\n",
    "            #print(\"nrow: {}, ncol: {}, path_dir: {}\".format(nrow, ncol, path_dir))\n",
    "            direction = position_dir.iloc[nrow - 1, ncol - 1]\n",
    "\n",
    "            if direction == 'diagonal':\n",
    "                path_dir.append('diagonal')\n",
    "                return find_optim_path(S, position_dir, nrow - 1, ncol - 1, path_dir)\n",
    "            if direction == 'right':\n",
    "                path_dir.append('right')\n",
    "                return find_optim_path(S, position_dir, nrow, ncol - 1, path_dir)\n",
    "            if direction == 'down':\n",
    "                path_dir.append('down')\n",
    "                return find_optim_path(S, position_dir, nrow - 1, ncol, path_dir)\n",
    "\n",
    "        elif nrow == 0:\n",
    "            #print(\"nrow: {}, ncol: {}, path_dir: {}\".format(nrow, ncol, path_dir))\n",
    "            path_dir.append('right')\n",
    "            return find_optim_path(S, position_dir, nrow, ncol - 1, path_dir)\n",
    "\n",
    "        elif ncol == 0:\n",
    "            #print(\"nrow: {}, ncol: {}, path_dir: {}\".format(nrow, ncol, path_dir))\n",
    "            path_dir.append('down')\n",
    "            return find_optim_path(S, position_dir, nrow - 1, ncol, path_dir)\n",
    "        \n",
    "    elif align_type == 'lcl':\n",
    "        \n",
    "        return None"
   ]
  },
  {
   "cell_type": "code",
   "execution_count": null,
   "metadata": {
    "id": "aaDLkSVETVYE"
   },
   "outputs": [],
   "source": [
    "def visualize_global_alignment(seq1, seq2, path_dir):\n",
    "    aligned_seq1 = ''\n",
    "    aligned_seq2 = ''\n",
    "    match_mismatch = ''\n",
    "\n",
    "    count1 = 0\n",
    "    count2 = 0\n",
    "\n",
    "    for direction in path_dir:\n",
    "        if direction == 'down':\n",
    "            aligned_seq2 += '_'\n",
    "            aligned_seq1 += seq1[count1]\n",
    "            match_mismatch += ' '\n",
    "            count1 += 1\n",
    "        elif direction == 'right':\n",
    "            aligned_seq2 += seq2[count2]\n",
    "            aligned_seq1 += '_'\n",
    "            match_mismatch += ' '\n",
    "            count2 += 1\n",
    "        elif direction == 'mismatch':       \n",
    "            aligned_seq2 += seq2[count2]\n",
    "            aligned_seq1 += seq1[count1]\n",
    "            count1 += 1\n",
    "            count2 += 1\n",
    "            match_mismatch += '*'\n",
    "        elif direction == 'match':\n",
    "            aligned_seq2 += seq2[count2]\n",
    "            aligned_seq1 += seq1[count1]\n",
    "            count1 += 1\n",
    "            count2 += 1\n",
    "            match_mismatch += '|' \n",
    "        elif direction == 'diagonal':\n",
    "            aligned_seq2 += seq2[count2]\n",
    "            aligned_seq1 += seq1[count1]\n",
    "            \n",
    "            if seq2[count2] == seq1[count1]:\n",
    "                match_mismatch += '|'\n",
    "            else:\n",
    "                match_mismatch += '*'  \n",
    "                \n",
    "            count1 += 1\n",
    "            count2 += 1\n",
    "    \n",
    "    aligned_seq_len = len(aligned_seq1)\n",
    "    count = 0\n",
    "            \n",
    "    while aligned_seq_len > 50:\n",
    "        print(aligned_seq1[50*count:50*(count+1)])\n",
    "        print(match_mismatch[50*count:50*(count+1)])\n",
    "        print(aligned_seq2[50*count:50*(count+1)])\n",
    "        aligned_seq_len -= 50\n",
    "        count += 1\n",
    "    print(aligned_seq1[50*count:50*(count+1)])\n",
    "    print(match_mismatch[50*count:50*(count+1)])\n",
    "    print(aligned_seq2[50*count:50*(count+1)])"
   ]
  },
  {
   "cell_type": "code",
   "execution_count": null,
   "metadata": {
    "id": "GgOYzAyZTXwd"
   },
   "outputs": [],
   "source": [
    "def visualize_local_alignment(seq1, seq2, S, position_dir):\n",
    "\n",
    "    max_value_index = list(zip(*np.where(S == np.max(S))))\n",
    "    index_sum = np.sum(max_value_index, axis = 1)\n",
    "    max_value_index = max_value_index[int(np.where(np.max(index_sum) == index_sum)[0])]\n",
    "\n",
    "    score = S[max_value_index]\n",
    "    index = max_value_index\n",
    "    nrow = max_value_index[0]\n",
    "    ncol = max_value_index[1]\n",
    "\n",
    "    path_coord = []\n",
    "    path_dir = []\n",
    "\n",
    "    while score != 0:\n",
    "        path_coord.append([nrow, ncol])\n",
    "        direction = position_dir.iloc[nrow - 1, ncol - 1]\n",
    "        path_dir.append(direction)\n",
    "        #print('score:{}, coord:{},{}, direction:{}'.format(score, nrow, ncol, direction))\n",
    "        if direction == 'diagonal':\n",
    "            nrow -= 1\n",
    "            ncol -= 1\n",
    "        elif direction == 'right':\n",
    "            ncol -= 1\n",
    "        elif direction == 'down':\n",
    "            nrow -= 1\n",
    "        score = S[nrow, ncol]\n",
    "\n",
    "    path_coord = np.array(path_coord)\n",
    "\n",
    "    seq1_start = path_coord[:,0][-1]\n",
    "    seq1_stop = path_coord[:,0][0]\n",
    "    seq2_start = path_coord[:,1][-1]\n",
    "    seq2_stop = path_coord[:,1][0]\n",
    "\n",
    "    aligned_seq1 = ''\n",
    "    aligned_seq2 = ''\n",
    "    match_mismatch = ''\n",
    "    \n",
    "    nrow = seq1_start\n",
    "    ncol = seq2_start\n",
    "    \n",
    "    path_dir.reverse()\n",
    "    for direction in path_dir:\n",
    "        if direction == 'diagonal':\n",
    "            aligned_seq1 += seq1[nrow - 1]\n",
    "            aligned_seq2 += seq2[ncol - 1]\n",
    "            if seq1[nrow - 1] == seq2[ncol - 1]:\n",
    "                match_mismatch += '|'\n",
    "            else:\n",
    "                match_mismatch += '*'\n",
    "            nrow += 1\n",
    "            ncol += 1\n",
    "        elif direction == 'right':\n",
    "            aligned_seq1 += '_'\n",
    "            aligned_seq2 += seq2[ncol - 1]\n",
    "            match_mismatch += ' '\n",
    "            ncol += 1\n",
    "        elif direction == 'down':\n",
    "            aligned_seq1 += seq1[nrow - 1]\n",
    "            aligned_seq2 += '_'\n",
    "            match_mismatch += ' '\n",
    "            nrow += 1\n",
    "        #print(aligned_seq1, aligned_seq2)\n",
    "    aligned_seq_len = len(aligned_seq1)\n",
    "    count = 0\n",
    "    while aligned_seq_len > 50:\n",
    "        print(aligned_seq1[50*count:50*(count+1)])\n",
    "        print(match_mismatch[50*count:50*(count+1)])\n",
    "        print(aligned_seq2[50*count:50*(count+1)])\n",
    "        aligned_seq_len -= 50\n",
    "        count += 1\n",
    "    print(aligned_seq1[50*count:50*(count+1)])\n",
    "    print(match_mismatch[50*count:50*(count+1)])\n",
    "    print(aligned_seq2[50*count:50*(count+1)])"
   ]
  },
  {
   "cell_type": "markdown",
   "metadata": {
    "id": "hJElLWhGtllD"
   },
   "source": [
    "## Aligntwo Function\n",
    "\n",
    "    Aligntwo(seq1, seq2, sub_matrix = blosum_62_df, go = -2, ge = -2, align_type = 'gbl')\n",
    "\n",
    "The Aligntwo function is a user defined function which visualizes the best global/local alignment of two similar protein/DNA sequences. \n",
    "\n",
    "The function has the following arguments: \n",
    "\n",
    "  * _seq1_ : First Protein/DNA sequence\n",
    "  * _seq2_ : Second Protein/DNA sequence\n",
    "  * _sub_matrix_ : Substitution matrix. E.g. BLOSUM50, BLOSUM62, BLOSUM80, and etc. \n",
    "  * _go_ : Gap opening penalty. Default value is -2\n",
    "  * _ge_ : Gap extension penalty. Default value is -2\n",
    "  * _align_type_: Type of alignment. 'gbl': global alignment and 'lcl': local alignment. Default alignment is global alignment.  "
   ]
  },
  {
   "cell_type": "code",
   "execution_count": null,
   "metadata": {
    "id": "NpmGVOnaTZut"
   },
   "outputs": [],
   "source": [
    "def Aligntwo(seq1, seq2, sub_matrix = blosum_62_df, go = -2, ge = -2, align_type = 'gbl'):\n",
    "    \n",
    "    S, position_dir = get_S(seq1, seq2, go = go, ge = ge, sub_matrix = sub_matrix, align_type = align_type)\n",
    "    \n",
    "    path_dir = find_optim_path(S, position_dir, \n",
    "                               S.shape[0] - 1, \n",
    "                               S.shape[1] - 1, path_dir = [],\n",
    "                               align_type = align_type)\n",
    "\n",
    "    #print(S)\n",
    "    #print(position_dir)\n",
    "    #print(path_dir)\n",
    "\n",
    "    print('Number of calculations: {}'.format(len(seq1)*len(seq2)*3))\n",
    "\n",
    "    if align_type == 'gbl':\n",
    "        #score = S[-1,-1]\n",
    "        score = np.max([np.max(S[:,-1]),np.max(S[-1,:])])\n",
    "        print('score: {}'.format(score))\n",
    "        print('Results:')\n",
    "        visualize_global_alignment(seq1, seq2, path_dir)\n",
    "        \n",
    "    elif align_type == 'lcl':\n",
    "        score = np.max(S)\n",
    "        print('score: {}'.format(score))\n",
    "        print('Results:')\n",
    "        visualize_local_alignment(seq1, seq2, S, position_dir)"
   ]
  },
  {
   "cell_type": "markdown",
   "metadata": {
    "id": "uWJReL5dTt9U"
   },
   "source": [
    "## Global/Local Alignment Examples\n",
    "\n",
    "Here are some of the results of alignment of protein/DNA sequences. Each Alignment results from Aligntwo function was compared to the EMBOSS function - a free open source software analysis package developed for the needs of the molecular biology and bioinformatics user community. The alignment results from EMBOSS are written as comments underneath each code. For certain argument conditions such as gap opening penalty -2, it was impossible to impose the same conditions in EMBOSS because they did not support the option. Thus EMBOSS alignment results are missing in some argument conditions. "
   ]
  },
  {
   "cell_type": "markdown",
   "metadata": {
    "id": "0Flj0PNaxhKz"
   },
   "source": [
    "## Protein Sequence Alignment\n",
    "\n",
    "### List of random protein sequences"
   ]
  },
  {
   "cell_type": "code",
   "execution_count": null,
   "metadata": {
    "id": "V0AWUOupvwdz"
   },
   "outputs": [],
   "source": [
    "protein_seq1 = 'TSINQET'\n",
    "protein_seq2 = 'SVETD'\n",
    "\n",
    "protein_seq3 = 'SSSVPSQKTYQGSYGFRLGFLHSGTAKSVTCTYSPALNKMFCQLAKTCPV\\\n",
    "QLWVDSTPPPGTRVRAMAIYKQSQHMTEVVRRCPHHERCSDSDGLAPPQH\\\n",
    "LIRVEGNLRVEYLDDRNTFRHSVVVPYEPPEVGSDCTTIHYNYMCNSSCM\\\n",
    "GGMNRRPILTIITLEDSSGNLLGRNSFEVRVCACPGRDRRTEEENL'\n",
    "\n",
    "protein_seq4 = 'SCAVPSTDDYAGKYGLQLDFQQNGTAKSVTCTYSPELNKLFCQLAKTCPL\\\n",
    "LVRVESPPPRGSILRATAVYKKSEHVAEVVKRCPHHERSVEPGEDAAPPS\\\n",
    "HLMRVEGNLQAYYMEDVNSGRHSVCVPYEGPQVGTECTTVLYNYMCNSSC\\\n",
    "MGGMNRRPILTIITLETPQGLLLGRRCFEVRVCACPGRDRRTEEDNY'\n",
    "\n",
    "protein_seq5 = 'PQNKAISSSY'\n",
    "protein_seq6 = 'IHMWYTSSGN'"
   ]
  },
  {
   "cell_type": "markdown",
   "metadata": {
    "id": "XnPhLhIlyKmB"
   },
   "source": [
    "### Condition No. 1\n",
    "\n",
    "* Substitution_matrix: BLOSUM62\n",
    "* Gap opening penalty: -5\n",
    "* Gap extension penalty: -1\n",
    "* Type of alignment: Global "
   ]
  },
  {
   "cell_type": "code",
   "execution_count": null,
   "metadata": {
    "colab": {
     "base_uri": "https://localhost:8080/"
    },
    "id": "LlZAQqKgxKDL",
    "outputId": "422d7efb-a193-4ba3-a3e9-d2c33cdef4dc"
   },
   "outputs": [
    {
     "name": "stdout",
     "output_type": "stream",
     "text": [
      "Number of calculations: 105\n",
      "score: 11.0\n",
      "Results:\n",
      "TSINQET_\n",
      " |*  || \n",
      "_SV__ETD\n"
     ]
    }
   ],
   "source": [
    "Aligntwo(protein_seq1, protein_seq2, sub_matrix = blosum_62_df, go = -5, ge = -1, align_type = 'gbl')\n",
    "\n",
    "#EMBOSS alignment results: \n",
    "\n",
    "#Score: 11.0\n",
    "\n",
    "#=======================================\n",
    "\n",
    "#EMBOSS_001         1 TSINQET-      7\n",
    "#                      |:  || \n",
    "#EMBOSS_001         1 -SV--ETD      5\n",
    "\n",
    "#======================================="
   ]
  },
  {
   "cell_type": "code",
   "execution_count": null,
   "metadata": {
    "colab": {
     "base_uri": "https://localhost:8080/"
    },
    "id": "o72difVXxIHP",
    "outputId": "7c357a3a-1f9f-407f-cca1-9b465581906a"
   },
   "outputs": [
    {
     "name": "stdout",
     "output_type": "stream",
     "text": [
      "Number of calculations: 115836\n",
      "score: 725.0\n",
      "Results:\n",
      "SSSVPSQKTYQGSYGFRLGFLHSGTAKSVTCTYSPALNKMFCQLAKTCPV\n",
      "|**|||***|*|*||**|*|***||||||||||||*|||*|||||||||*\n",
      "SCAVPSTDDYAGKYGLQLDFQQNGTAKSVTCTYSPELNKLFCQLAKTCPL\n",
      "QLWVDSTPPPGTRVRAMAIYKQSQHMTEVVRRCPHHERCSD_SDGLAPPQ\n",
      "***|*|*||*|***||*|*||*|*|**|||*|||||||*** ****|||*\n",
      "LVRVESPPPRGSILRATAVYKKSEHVAEVVKRCPHHERSVEPGEDAAPPS\n",
      "HLIRVEGNLRVEYLDDRNTFRHSVVVPYEPPEVGSDCTTIHYNYMCNSSC\n",
      "||*||||||***|**|*|**||||*||||*|*||**|||**|||||||||\n",
      "HLMRVEGNLQAYYMEDVNSGRHSVCVPYEGPQVGTECTTVLYNYMCNSSC\n",
      "MGGMNRRPILTIITLEDSSGNLLGRNSFEVRVCACPGRDRRTEEENL\n",
      "||||||||||||||||***|*||||**|||||||||||||||||*|*\n",
      "MGGMNRRPILTIITLETPQGLLLGRRCFEVRVCACPGRDRRTEEDNY\n"
     ]
    }
   ],
   "source": [
    "Aligntwo(protein_seq3, protein_seq4, sub_matrix = blosum_62_df, go = -5, ge = -1, align_type = 'gbl')\n",
    "\n",
    "#EMBOSS alignment results: \n",
    "\n",
    "# Score: 725.0\n",
    "\n",
    "#=======================================\n",
    "\n",
    "#EMBOSS_001         1 SSSVPSQKTYQGSYGFRLGFLHSGTAKSVTCTYSPALNKMFCQLAKTCPV     50\n",
    "#                     |.:|||...|.|.||.:|.|..:||||||||||||.|||:|||||||||:\n",
    "#EMBOSS_001         1 SCAVPSTDDYAGKYGLQLDFQQNGTAKSVTCTYSPELNKLFCQLAKTCPL     50\n",
    "#\n",
    "#EMBOSS_001        51 QLWVDSTPPPGTRVRAMAIYKQSQHMTEVVRRCPHHERCSD-SDGLAPPQ     99\n",
    "#                     .:.|:|.||.|:.:||.|:||:|:|:.|||:|||||||..: .:..|||.\n",
    "#EMBOSS_001        51 LVRVESPPPRGSILRATAVYKKSEHVAEVVKRCPHHERSVEPGEDAAPPS    100\n",
    "#\n",
    "#EMBOSS_001       100 HLIRVEGNLRVEYLDDRNTFRHSVVVPYEPPEVGSDCTTIHYNYMCNSSC    149\n",
    "#                     ||:||||||:..|::|.|:.||||.||||.|:||::|||:.|||||||||\n",
    "#EMBOSS_001       101 HLMRVEGNLQAYYMEDVNSGRHSVCVPYEGPQVGTECTTVLYNYMCNSSC    150\n",
    "#\n",
    "#EMBOSS_001       150 MGGMNRRPILTIITLEDSSGNLLGRNSFEVRVCACPGRDRRTEEENL    196\n",
    "#                     ||||||||||||||||...|.||||..|||||||||||||||||:|.\n",
    "#EMBOSS_001       151 MGGMNRRPILTIITLETPQGLLLGRRCFEVRVCACPGRDRRTEEDNY    197\n",
    "\n",
    "#======================================="
   ]
  },
  {
   "cell_type": "code",
   "execution_count": null,
   "metadata": {
    "colab": {
     "base_uri": "https://localhost:8080/"
    },
    "id": "yE0m1hI1wVRy",
    "outputId": "ee0f7703-011c-4508-cf94-562baa567564"
   },
   "outputs": [
    {
     "name": "stdout",
     "output_type": "stream",
     "text": [
      "Number of calculations: 300\n",
      "score: 6.0\n",
      "Results:\n",
      "PQNKAI_____SSSY\n",
      "     |     ||**\n",
      "_____IHMWYTSSGN\n"
     ]
    }
   ],
   "source": [
    "Aligntwo(protein_seq5, protein_seq6, sub_matrix = blosum_62_df, go = -5, ge = -1, align_type = 'gbl')\n",
    "\n",
    "#score is the same but alignment is different in EMBOSS\n",
    "\n",
    "#EMBOSS alignment results: \n",
    "\n",
    "#Score: 16.0\n",
    "\n",
    "#=======================================\n",
    "\n",
    "#EMBOSS_001         1 PQNKAISSSY-----     10\n",
    "#                          |...|     \n",
    "#EMBOSS_001         1 -----IHMWYTSSGN     10\n",
    "\n",
    "#======================================="
   ]
  },
  {
   "cell_type": "markdown",
   "metadata": {
    "id": "UQB6u0lPyihV"
   },
   "source": [
    "### Condition No. 2\n",
    "\n",
    "* Substitution_matrix: BLOSUM50\n",
    "* Gap opening penalty: -2\n",
    "* Gap extension penalty: -2\n",
    "* Type of alignment: Local \n",
    "\n",
    "Comparison of alignment result between Aligntwo and EMBOSS is not possible because EMBOSS gap opening penalty options only support -1, -5, -10 etc. "
   ]
  },
  {
   "cell_type": "code",
   "execution_count": null,
   "metadata": {
    "colab": {
     "base_uri": "https://localhost:8080/"
    },
    "id": "Vt81gO0Aypuw",
    "outputId": "37b0146a-6af0-4e0d-c823-f78c68f9605c"
   },
   "outputs": [
    {
     "name": "stdout",
     "output_type": "stream",
     "text": [
      "Number of calculations: 105\n",
      "score: 16.0\n",
      "Results:\n",
      "SINQET\n",
      "|*  ||\n",
      "SV__ET\n"
     ]
    }
   ],
   "source": [
    "Aligntwo(protein_seq1, protein_seq2, sub_matrix = blosum_50_df, go = -2, ge = -2, align_type = 'lcl') "
   ]
  },
  {
   "cell_type": "code",
   "execution_count": null,
   "metadata": {
    "colab": {
     "base_uri": "https://localhost:8080/"
    },
    "id": "E4m6PWwHypzG",
    "outputId": "1def99d4-5ed2-4a27-d230-e7484bfc5868"
   },
   "outputs": [
    {
     "name": "stdout",
     "output_type": "stream",
     "text": [
      "Number of calculations: 115836\n",
      "score: 970.0\n",
      "Results:\n",
      "SSSVPSQKTYQGSYGFRLGFLHSGTAKSVTCTYSPALNKMFCQLAKTCPV\n",
      "|**|||***|*|*||**|*|***||||||||||||*|||*|||||||||*\n",
      "SCAVPSTDDYAGKYGLQLDFQQNGTAKSVTCTYSPELNKLFCQLAKTCPL\n",
      "QL_WVDSTPPP_GTRV_RAMAIYKQSQHMTEVVRRCPHHERCS_D_S_DG\n",
      " | *|*| ||| |* * ||*|*||*|*|**|||*||||||| | * * |*\n",
      "_LVRVES_PPPRGS_ILRATAVYKKSEHVAEVVKRCPHHER_SVEPGEDA\n",
      "LAPPQHLIRVEGNLRVEYLDDRNTFRHSVVVPYEPPEVGSDCTTIHYNYM\n",
      " |||*||*||||||***|**|*|**||||*||||*|*||**|||**||||\n",
      "_APPSHLMRVEGNLQAYYMEDVNSGRHSVCVPYEGPQVGTECTTVLYNYM\n",
      "CNSSCMGGMNRRPILTIITLEDSSGNLLGRNSFEVRVCACPGRDRRTEEE\n",
      "|||||||||||||||||||||***|*||||**|||||||||||||||||*\n",
      "CNSSCMGGMNRRPILTIITLETPQGLLLGRRCFEVRVCACPGRDRRTEED\n",
      "N\n",
      "|\n",
      "N\n"
     ]
    }
   ],
   "source": [
    "Aligntwo(protein_seq3, protein_seq4, sub_matrix = blosum_50_df, go = -2, ge = -2, align_type = 'lcl')"
   ]
  },
  {
   "cell_type": "code",
   "execution_count": null,
   "metadata": {
    "colab": {
     "base_uri": "https://localhost:8080/"
    },
    "id": "HTwgxiBoyp13",
    "outputId": "9a28b07c-fdc4-481c-d7e5-cc4cec26bb10"
   },
   "outputs": [
    {
     "name": "stdout",
     "output_type": "stream",
     "text": [
      "Number of calculations: 300\n",
      "score: 9.0\n",
      "Results:\n",
      "SS\n",
      "||\n",
      "SS\n"
     ]
    }
   ],
   "source": [
    "Aligntwo(protein_seq5, protein_seq6, sub_matrix = blosum_50_df, go = -2, ge = -2, align_type = 'lcl')"
   ]
  },
  {
   "cell_type": "markdown",
   "metadata": {
    "id": "D8O-gGVUzQIP"
   },
   "source": [
    "### Condition No. 3\n",
    "\n",
    "* Substitution_matrix: BLOSUM80\n",
    "* Gap opening penalty: -5\n",
    "* Gap extension penalty: -1\n",
    "* Type of alignment: Local "
   ]
  },
  {
   "cell_type": "code",
   "execution_count": null,
   "metadata": {
    "colab": {
     "base_uri": "https://localhost:8080/"
    },
    "id": "Ucu9o31uzVPm",
    "outputId": "8aaa1817-910a-46a6-faeb-3af20a315040"
   },
   "outputs": [
    {
     "name": "stdout",
     "output_type": "stream",
     "text": [
      "Number of calculations: 105\n",
      "score: 13.0\n",
      "Results:\n",
      "SINQET\n",
      "|*  ||\n",
      "SV__ET\n"
     ]
    }
   ],
   "source": [
    "Aligntwo(protein_seq1, protein_seq2, sub_matrix = blosum_80_df, go = -5, ge = -1, align_type = 'lcl')\n",
    "\n",
    "#EMBOSS alignment results: \n",
    "\n",
    "#Score: 21\n",
    "\n",
    "#EMBOSS_001         2 SINQET      7\n",
    "#                     |:  ||\n",
    "#EMBOSS_001         1 SV--ET      4"
   ]
  },
  {
   "cell_type": "code",
   "execution_count": null,
   "metadata": {
    "colab": {
     "base_uri": "https://localhost:8080/"
    },
    "id": "9S_mJnPqzVTn",
    "outputId": "81253be1-7ef5-4bfc-a3d1-66cfc153c2dd"
   },
   "outputs": [
    {
     "name": "stdout",
     "output_type": "stream",
     "text": [
      "Number of calculations: 115836\n",
      "score: 763.0\n",
      "Results:\n",
      "SSSVPSQKTYQGSYGFRLGFLHSGTAKSVTCTYSPALNKMFCQLAKTCPV\n",
      "|**|||***|*|*||**|*|***||||||||||||*|||*|||||||||*\n",
      "SCAVPSTDDYAGKYGLQLDFQQNGTAKSVTCTYSPELNKLFCQLAKTCPL\n",
      "QLWVDSTPPP_GTRVRAMAIYKQSQHMTEVVRRCPHHERCSDSDG__LAP\n",
      "***|*| ||| |***||*|*||*|*|**|||*||||||| |***|  *||\n",
      "LVRVES_PPPRGSILRATAVYKKSEHVAEVVKRCPHHER_SVEPGEDAAP\n",
      "PQHLIRVEGNLRVEYLDDRNTFRHSVVVPYEPPEVGSDCTTIHYNYMCNS\n",
      "|*||*||||||***|**|*|**||||*||||*|*||**|||**|||||||\n",
      "PSHLMRVEGNLQAYYMEDVNSGRHSVCVPYEGPQVGTECTTVLYNYMCNS\n",
      "SCMGGMNRRPILTIITLEDSSGNLLGRNSFEVRVCACPGRDRRTEEEN\n",
      "||||||||||||||||||***|*||||**|||||||||||||||||*|\n",
      "SCMGGMNRRPILTIITLETPQGLLLGRRCFEVRVCACPGRDRRTEEDN\n"
     ]
    }
   ],
   "source": [
    "Aligntwo(protein_seq3, protein_seq4, sub_matrix = blosum_80_df, go = -5, ge = -1, align_type = 'lcl')\n",
    "\n",
    "#EMBOSS alignment results: \n",
    "\n",
    "#Score: 1168.0\n",
    "\n",
    "#EMBOSS_001         1 SSSVPSQKT--YQGSYGFRLGFLHSGTAKSVTCTYSPALNKMFCQLAKTC     48\n",
    "#                     |.:|||  |  |.|.||.:|.|.::||||||||||||.|||:||||||||\n",
    "#EMBOSS_001         1 SCAVPS--TDDYAGKYGLQLDFQQNGTAKSVTCTYSPELNKLFCQLAKTC     48\n",
    "#\n",
    "#EMBOSS_001        49 P--VQLWVDSTPPP-GTRVRAMAIYKQSQHMTEVVRRCPHHERCS-----     90\n",
    "#                     |  |:  |:| ||| |:.:||.|:||:|:|:.|||:||||||| |     \n",
    "#EMBOSS_001        49 PLLVR--VES-PPPRGSILRATAVYKKSEHVAEVVKRCPHHER-SVEPGE     94\n",
    "#\n",
    "#EMBOSS_001        91 DSDGLAPPQHLIRVEGNLRVEYLDDRNTFRHSVVVPYEPPEVGSDCTTIH    140\n",
    "#                     |:   |||.||:||||||:..|::|.|:.||||.||||.|:||::|||:.\n",
    "#EMBOSS_001        95 DA---APPSHLMRVEGNLQAYYMEDVNSGRHSVCVPYEGPQVGTECTTVL    141\n",
    "#\n",
    "#EMBOSS_001       141 YNYMCNSSCMGGMNRRPILTIITLEDSSGNLLGRNSFEVRVCACPGRDRR    190\n",
    "#                     |||||||||||||||||||||||||...|.||||..||||||||||||||\n",
    "#EMBOSS_001       142 YNYMCNSSCMGGMNRRPILTIITLETPQGLLLGRRCFEVRVCACPGRDRR    191\n",
    "#\n",
    "#EMBOSS_001       191 TEEEN    195\n",
    "#                     |||:|\n",
    "#EMBOSS_001       192 TEEDN    196\n"
   ]
  },
  {
   "cell_type": "code",
   "execution_count": null,
   "metadata": {
    "colab": {
     "base_uri": "https://localhost:8080/"
    },
    "id": "sU8hb3OJzVXO",
    "outputId": "68a50118-94ff-45af-df79-76df1cc1f938"
   },
   "outputs": [
    {
     "name": "stdout",
     "output_type": "stream",
     "text": [
      "Number of calculations: 300\n",
      "score: 8.0\n",
      "Results:\n",
      "SS\n",
      "||\n",
      "SS\n"
     ]
    }
   ],
   "source": [
    "Aligntwo(protein_seq5, protein_seq6, sub_matrix = blosum_80_df, go = -5, ge = -1, align_type = 'lcl')\n",
    "\n",
    "#EMBOSS alignment results: \n",
    "\n",
    "#Score: 16.0\n",
    "\n",
    "#EMBOSS_001         7 SSS      9\n",
    "#                     :||\n",
    "#EMBOSS_001         6 TSS      8"
   ]
  },
  {
   "cell_type": "markdown",
   "metadata": {
    "id": "RkTwFImC2n80"
   },
   "source": [
    "## DNA Sequence Alignment\n",
    "\n",
    "### List of Random DNA sequences"
   ]
  },
  {
   "cell_type": "code",
   "execution_count": null,
   "metadata": {
    "id": "shxDAMMET8RW"
   },
   "outputs": [],
   "source": [
    "dna_seq1 = 'CTAGGAT'\n",
    "dna_seq2 = 'TACGT'\n",
    "\n",
    "dna_seq3 = 'TAGGCAGAAA' \n",
    "dna_seq4 = 'CTGGACGTAC'\n",
    "\n",
    "dna_seq5 = 'GATGTACGACCTGAGATCCT'  \n",
    "dna_seq6 = 'CTGCTGATGGATCAGCGGTG'"
   ]
  },
  {
   "cell_type": "markdown",
   "metadata": {
    "id": "BR5L3S1r3wBg"
   },
   "source": [
    "### Condition No. 1\n",
    "\n",
    "* Substitution matrix: dna_sub_matrix\n",
    "* Gap opening penalty: -2\n",
    "* Gap extension penalty: -2\n",
    "* Alignment type: Global"
   ]
  },
  {
   "cell_type": "code",
   "execution_count": null,
   "metadata": {
    "colab": {
     "base_uri": "https://localhost:8080/"
    },
    "id": "QcJ4bDad0854",
    "outputId": "01d0531d-f1eb-481e-b5db-0a89274762c1"
   },
   "outputs": [
    {
     "name": "stdout",
     "output_type": "stream",
     "text": [
      "Number of calculations: 105\n",
      "score: 1\n",
      "Results:\n",
      "CTAGGAT\n",
      " ||*| |\n",
      "_TACG_T\n"
     ]
    }
   ],
   "source": [
    "Aligntwo(dna_seq1, dna_seq2, sub_matrix = dna_sub_matrix, go = -2, ge = -2, align_type = 'gbl')"
   ]
  },
  {
   "cell_type": "code",
   "execution_count": null,
   "metadata": {
    "colab": {
     "base_uri": "https://localhost:8080/"
    },
    "id": "VjLMX4eb3yeY",
    "outputId": "c32fbfe5-32ca-46e6-99b5-c3df08ee0de4"
   },
   "outputs": [
    {
     "name": "stdout",
     "output_type": "stream",
     "text": [
      "Number of calculations: 300\n",
      "score: -1\n",
      "Results:\n",
      "_TAGGCAGAAA\n",
      " | ||**|*|*\n",
      "CT_GGACGTAC\n"
     ]
    }
   ],
   "source": [
    "Aligntwo(dna_seq3, dna_seq4, sub_matrix = dna_sub_matrix, go = -2, ge = -2, align_type = 'gbl')"
   ]
  },
  {
   "cell_type": "code",
   "execution_count": null,
   "metadata": {
    "colab": {
     "base_uri": "https://localhost:8080/"
    },
    "id": "B_NjuYiw30dQ",
    "outputId": "6aea6cd9-ae89-4815-89fd-6676d5af56dd"
   },
   "outputs": [
    {
     "name": "stdout",
     "output_type": "stream",
     "text": [
      "Number of calculations: 1200\n",
      "score: -4\n",
      "Results:\n",
      "__GATGTACGACCTGAGATCCT\n",
      "  |*||***||*|*|*|*|  *\n",
      "CTGCTGATGGATCAGCGGT__G\n"
     ]
    }
   ],
   "source": [
    "Aligntwo(dna_seq5, dna_seq6, sub_matrix = dna_sub_matrix, go = -2, ge = -2, align_type = 'gbl')"
   ]
  },
  {
   "cell_type": "markdown",
   "metadata": {
    "id": "DBnj1yt94yb7"
   },
   "source": [
    "### Condition No. 2\n",
    "\n",
    "* Substitution matrix: dna_sub_matrix\n",
    "* Gap opening penalty: -5\n",
    "* Gap extension penalty: -1\n",
    "* Alignment type: Local"
   ]
  },
  {
   "cell_type": "code",
   "execution_count": null,
   "metadata": {
    "colab": {
     "base_uri": "https://localhost:8080/"
    },
    "id": "V_U0V8Zh417V",
    "outputId": "90bd6e3a-c147-4785-ae96-78a184ad6eff"
   },
   "outputs": [
    {
     "name": "stdout",
     "output_type": "stream",
     "text": [
      "Number of calculations: 105\n",
      "score: 2\n",
      "Results:\n",
      "TAGG\n",
      "||*|\n",
      "TACG\n"
     ]
    }
   ],
   "source": [
    "Aligntwo(dna_seq1, dna_seq2, sub_matrix = dna_sub_matrix, go = -5, ge = -1, align_type = 'lcl')\n",
    "\n",
    "# Score: 11.0\n",
    "# \n",
    "#\n",
    "#=======================================\n",
    "\n",
    "#EMBOSS_001         2 TAGG      5\n",
    "#                     ||.|\n",
    "#EMBOSS_001         1 TACG      4\n",
    "\n",
    "\n",
    "#---------------------------------------"
   ]
  },
  {
   "cell_type": "code",
   "execution_count": null,
   "metadata": {
    "colab": {
     "base_uri": "https://localhost:8080/"
    },
    "id": "8S9BP4LI41-U",
    "outputId": "32793f81-4794-45a5-8c85-a9e397716393"
   },
   "outputs": [
    {
     "name": "stdout",
     "output_type": "stream",
     "text": [
      "Number of calculations: 300\n",
      "score: 2\n",
      "Results:\n",
      "TA\n",
      "||\n",
      "TA\n"
     ]
    }
   ],
   "source": [
    "Aligntwo(dna_seq3, dna_seq4, sub_matrix = dna_sub_matrix, go = -5, ge = -1, align_type = 'lcl')\n",
    "\n",
    "# Score: 11.0\n",
    "# \n",
    "#\n",
    "#=======================================\n",
    "\n",
    "#EMBOSS_001         3 GGCA-GAA      9\n",
    "#                     || | |.|\n",
    "#EMBOSS_001         3 GG-ACGTA      9\n",
    "\n",
    "\n",
    "#---------------------------------------\n",
    "#---------------------------------------"
   ]
  },
  {
   "cell_type": "code",
   "execution_count": null,
   "metadata": {
    "colab": {
     "base_uri": "https://localhost:8080/"
    },
    "id": "iEzYTAAv42CH",
    "outputId": "fd339932-3caf-4c42-801e-51e88efacf5e"
   },
   "outputs": [
    {
     "name": "stdout",
     "output_type": "stream",
     "text": [
      "Number of calculations: 1200\n",
      "score: 4\n",
      "Results:\n",
      "GATGTA\n",
      "||||*|\n",
      "GATGGA\n"
     ]
    }
   ],
   "source": [
    "Aligntwo(dna_seq5, dna_seq6, sub_matrix = dna_sub_matrix, go = -5, ge = -1, align_type = 'lcl')\n",
    "\n",
    "# Score: 34.0\n",
    "# \n",
    "#\n",
    "#=======================================\n",
    "\n",
    "#EMBOSS_001        11 CTGA--GATC     18\n",
    "#                     ||||  ||||\n",
    "#EMBOSS_001         4 CTGATGGATC     13\n",
    "\n",
    "\n",
    "#---------------------------------------"
   ]
  },
  {
   "cell_type": "markdown",
   "metadata": {
    "id": "9wQ0heLW09Rx"
   },
   "source": [
    "## Comparison of Aligntwo and EMBOSS Summary\n",
    "\n",
    "To verify if the Aligntwo function works properly, I have compared the results of 3 pairs of protein sequences and 2 pairs DNA sequence alignments to EMBOSS sequence alignment results. \n",
    "\n",
    "* _Protein Alignment Condition #1_: \n",
    "  Alignment and score results were identical\n",
    "\n",
    "* _Protein Alignment Condition #2_: Comparison of alignment result between Aligntwo and EMBOSS is not possible because EMBOSS gap opening penalty options only support -1, -5, -10 etc. \n",
    "\n",
    "* _Protein Alignment Condition #3_: Alignment was mostly identical except for protein_seq5 and protein_seq6. Alignment score results showed significant difference as well. I suspect that there is a difference in the BLOSUM80 substitution matrices that have been utilized. \n",
    "\n",
    "* _DNA Alignment Condition #1_: Comparison of alignment result between Aligntwo and EMBOSS is not possible because EMBOSS gap opening penalty options only support -1, -5, -10 etc. \n",
    "\n",
    "* _DNA Alignment Condition #2_: Aligntwo and EMBOSS outputed the same alignment for dna_seq1 and dna_seq2 only and all alignment scores showed a difference. I suspect that this is due to the difference in the DNA substitution matrix that have been utilized in both funcitons. In Aligntwo, a score of +1 was given for a match and a score of -1 for a mismatch regardless of the type of match or mismatch (e.g. A-G, C-G, T-A). Although the EMBOSS function does not explicitly describe how it scores each match and mismatch, I suspect that it gives different a score for a transition/transversion mutations. This would explain the difference in the alignment and the alignment score between the two functions\n",
    "\n",
    " \n",
    "\n"
   ]
  },
  {
   "cell_type": "markdown",
   "metadata": {
    "id": "DgijZp9kprY0"
   },
   "source": [
    "## Advantages and Limitations of the Aligntwo Function\n",
    "\n",
    "After comparing the Aligntwo Function to EMBOSS, I discovered a few benefits and limitations the Aligntwo Function has in comparison to EBOSS. \n",
    "\n",
    "First, the EMBOSS function does not support a wide range of gap opening and extension penalty scores compared to Aligntwo. For instance, the EMBOSS function gap opening penalty options are -1, -5, -10, -20, -25, -50, -100. In comparison, the Aligntwo function allows any integer or float number to be entered by the user as a gap opening/extension penalty. \n",
    "\n",
    "However, the Aligntwo function lacks in many different aspects such as alignment visualization. The EMBOSS function visualizes the start index and the end index of the alignment, which is a feature Aligntwo does not yet support. \n",
    "\n",
    "Another limitation of the Aligntwo function is its inability to distinguish different types of substitution mutations. In EMBOSS, mismatch alignments are visualized as either '.' or ':' while Aligntwo function only visualizes mismatch alignments as '*'. \n",
    "\n",
    "In this regard, although Aligntwo confers greater versatility to its users, it still has alot of space for improvement. "
   ]
  }
 ],
 "metadata": {
  "colab": {
   "collapsed_sections": [
    "0Flj0PNaxhKz",
    "RkTwFImC2n80"
   ],
   "provenance": []
  },
  "kernelspec": {
   "display_name": "Python 3",
   "language": "python",
   "name": "python3"
  },
  "language_info": {
   "codemirror_mode": {
    "name": "ipython",
    "version": 3
   },
   "file_extension": ".py",
   "mimetype": "text/x-python",
   "name": "python",
   "nbconvert_exporter": "python",
   "pygments_lexer": "ipython3",
   "version": "3.8.8"
  }
 },
 "nbformat": 4,
 "nbformat_minor": 4
}
